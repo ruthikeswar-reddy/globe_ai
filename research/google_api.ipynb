{
 "cells": [
  {
   "cell_type": "code",
   "execution_count": 1,
   "metadata": {},
   "outputs": [],
   "source": [
    "import os\n",
    "import sys\n",
    "\n",
    "sys.path.append(os.path.abspath(\"..\"))"
   ]
  },
  {
   "cell_type": "code",
   "execution_count": 2,
   "metadata": {},
   "outputs": [],
   "source": [
    "import requests\n",
    "from project_config import get_project_config\n",
    "import os\n",
    "\n",
    "config = get_project_config()\n",
    "\n",
    "# Replace with your actual Google Places API key\n",
    "os.environ['GOOGLE_PLACESAPI_KEY'] = config.GOOGLE_PLACES_API_KEY\n"
   ]
  },
  {
   "cell_type": "code",
   "execution_count": 12,
   "metadata": {},
   "outputs": [
    {
     "name": "stdout",
     "output_type": "stream",
     "text": [
      "Searching for: Le Vantage Cafe Bar, Road No 13, Banjara Hills, Hyderabad, Telangana, India, 500034\n",
      "{'candidates': [{'place_id': 'ChIJSzs3-TGRyzsR7cuQ0lDJpBI'}], 'status': 'OK'}\n",
      "Verification Result:\n",
      "{'exists': True, 'name': 'Lé Vantage Café Bar', 'address': '195/A, Rd Number 13, Jubilee Hills, Hyderabad, Telangana 500033, India', 'is_open_now': True, 'website': 'http://www.levantagecafebar.com/', 'rating': 4.3, 'user_ratings_total': 7225}\n"
     ]
    }
   ],
   "source": [
    "\n",
    "def get_place_id(place_query):\n",
    "    url = \"https://maps.googleapis.com/maps/api/place/findplacefromtext/json\"\n",
    "    params = {\n",
    "        \"input\": place_query,\n",
    "        \"inputtype\": \"textquery\",\n",
    "        \"fields\": \"place_id\",\n",
    "        \"key\": config.GOOGLE_PLACES_API_KEY\n",
    "    }\n",
    "    response = requests.get(url, params=params)\n",
    "    print(response.json())\n",
    "    data = response.json()\n",
    "\n",
    "    if data[\"status\"] == \"OK\" and data[\"candidates\"]:\n",
    "        return data[\"candidates\"][0][\"place_id\"]\n",
    "    else:\n",
    "        print(\"Place not found.\")\n",
    "        return None\n",
    "\n",
    "def get_place_details(place_id):\n",
    "    url = \"https://maps.googleapis.com/maps/api/place/details/json\"\n",
    "    params = {\n",
    "        \"place_id\": place_id,\n",
    "        \"fields\": \"name,formatted_address,opening_hours,website,rating,user_ratings_total\",\n",
    "        \"key\": config.GOOGLE_PLACES_API_KEY\n",
    "    }\n",
    "    response = requests.get(url, params=params)\n",
    "    return response.json()\n",
    "\n",
    "def verify_place_from_web_result(web_result):\n",
    "    print(f\"Searching for: {web_result}\")\n",
    "    place_id = get_place_id(web_result)\n",
    "\n",
    "    if not place_id:\n",
    "        return {\"exists\": False, \"details\": None}\n",
    "\n",
    "    details = get_place_details(place_id)\n",
    "    result = details.get(\"result\", {})\n",
    "\n",
    "    return {\n",
    "        \"exists\": True,\n",
    "        \"name\": result.get(\"name\"),\n",
    "        \"address\": result.get(\"formatted_address\"),\n",
    "        \"is_open_now\": result.get(\"opening_hours\", {}).get(\"open_now\"),\n",
    "        \"website\": result.get(\"website\"),\n",
    "        \"rating\": result.get(\"rating\"),\n",
    "        \"user_ratings_total\": result.get(\"user_ratings_total\")\n",
    "    }\n",
    "\n",
    "# Example from Tavily/web search\n",
    "web_result_text = \"Le Vantage Cafe Bar, Road No 13, Banjara Hills, Hyderabad, Telangana, India, 500034\"\n",
    "info = verify_place_from_web_result(web_result_text)\n",
    "\n",
    "print(\"Verification Result:\")\n",
    "print(info)\n"
   ]
  },
  {
   "cell_type": "code",
   "execution_count": 7,
   "metadata": {},
   "outputs": [
    {
     "name": "stdout",
     "output_type": "stream",
     "text": [
      "business_status --> OPERATIONAL\n",
      "formatted_address --> 301 Hayes St, San Francisco, CA 94102, United States\n",
      "geometry --> {'location': {'lat': 37.7769287, 'lng': -122.4215742}, 'viewport': {'northeast': {'lat': 37.77834347989272, 'lng': -122.4202681201073}, 'southwest': {'lat': 37.77564382010728, 'lng': -122.4229677798928}}}\n",
      "icon --> https://maps.gstatic.com/mapfiles/place_api/icons/v1/png_71/restaurant-71.png\n",
      "icon_background_color --> #FF9E67\n",
      "icon_mask_base_uri --> https://maps.gstatic.com/mapfiles/place_api/icons/v2/restaurant_pinlet\n",
      "name --> Rad Radish\n",
      "opening_hours --> {'open_now': True}\n",
      "photos --> [{'height': 4032, 'html_attributions': ['<a href=\"https://maps.google.com/maps/contrib/116892486115562526006\">Lorenzo D&#39;Aniello</a>'], 'photo_reference': 'AXQCQNQtAkZ2RdQa4PBFsjg9XhjUTO4HnlRiJUhFj-ZqcjkbAhC15sLzzexARBmExkM1Pvr_ZsEYV_Tx2ZlgQFsUpaDB2MluYEBs6cpVApgkkhWusp9UKVQANh6cy7pq_Pa1bUyH7LU-Mj29HCNSWgipf1v3rXUhQ27LUX7x07i6AnrMykFLxN9J_MZWfe7cKNJ6BiCzZEduTuVJqgIKIae2Xb0DlknEkr1XoneeNBN37OoWWG2_U3qtfGmZYAQV6ddGu3o_0wzXtlkbPBUVeii-yb5BEp_twYmyd-5cMJ6NGyh4kIDOyazM4WgRF8Jq4mBXW10bVjW1NPq2mvl0lujFCLtBpNUtEQjOrqDIxG_yaE4N4bbzuT4DlxkRfk-bNTGFzuIU4DRkPHfrveddx7nHrjEyiQElk18Ri_ItGd99--lOBDNIEXtwBls06cuaIdGco46Xr0-KSy12tJvF_pCTP8mO84zvK2afSqz_10EkXETAd5w9mHWbmUgwxm0k8oLaP3TnnBNDMYzF-AmAVZK8Py2wsZsBHT0gR99tfrgc8FTOmnfW2fuatYETpt7eGYJaQ1DT25ZN', 'width': 3024}]\n",
      "place_id --> ChIJc-rRpmSBhYARllfwwCjG7r0\n",
      "plus_code --> {'compound_code': 'QHGH+Q9 Civic Center, San Francisco, CA, USA', 'global_code': '849VQHGH+Q9'}\n",
      "price_level --> 2\n",
      "rating --> 4.5\n",
      "reference --> ChIJc-rRpmSBhYARllfwwCjG7r0\n",
      "types --> ['restaurant', 'food', 'point_of_interest', 'establishment']\n",
      "user_ratings_total --> 472\n"
     ]
    }
   ],
   "source": [
    "import json\n",
    "url = \"https://maps.googleapis.com/maps/api/place/textsearch/json\"\n",
    "params = {\n",
    "    \"query\": \"vegan restaurants in San Francisco\",\n",
    "    \"type\": \"restaurant\",\n",
    "    \"key\": config.GOOGLE_PLACES_API_KEY\n",
    "}\n",
    "response = requests.get(url, params=params)\n",
    "data = response.json()\n",
    "for k,v in data[\"results\"][0].items():\n",
    "    print(k, \"-->\" , v)"
   ]
  },
  {
   "cell_type": "code",
   "execution_count": null,
   "metadata": {},
   "outputs": [],
   "source": []
  }
 ],
 "metadata": {
  "kernelspec": {
   "display_name": "globai_venv",
   "language": "python",
   "name": "python3"
  },
  "language_info": {
   "codemirror_mode": {
    "name": "ipython",
    "version": 3
   },
   "file_extension": ".py",
   "mimetype": "text/x-python",
   "name": "python",
   "nbconvert_exporter": "python",
   "pygments_lexer": "ipython3",
   "version": "3.12.6"
  }
 },
 "nbformat": 4,
 "nbformat_minor": 2
}
