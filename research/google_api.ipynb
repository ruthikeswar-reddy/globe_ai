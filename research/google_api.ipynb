{
 "cells": [
  {
   "cell_type": "code",
   "execution_count": 2,
   "metadata": {},
   "outputs": [],
   "source": [
    "import os\n",
    "import sys\n",
    "\n",
    "sys.path.append(os.path.abspath(\"..\"))"
   ]
  },
  {
   "cell_type": "code",
   "execution_count": 10,
   "metadata": {},
   "outputs": [],
   "source": [
    "import requests\n",
    "from project_config import get_project_config\n",
    "import os\n",
    "\n",
    "config = get_project_config()\n",
    "\n",
    "# Replace with your actual Google Places API key\n",
    "os.environ['GOOGLE_PLACESAPI_KEY'] = config.GOOGLE_PLACES_API_KEY\n"
   ]
  },
  {
   "cell_type": "code",
   "execution_count": 12,
   "metadata": {},
   "outputs": [
    {
     "name": "stdout",
     "output_type": "stream",
     "text": [
      "Searching for: Le Vantage Cafe Bar, Road No 13, Banjara Hills, Hyderabad, Telangana, India, 500034\n",
      "{'candidates': [{'place_id': 'ChIJSzs3-TGRyzsR7cuQ0lDJpBI'}], 'status': 'OK'}\n",
      "Verification Result:\n",
      "{'exists': True, 'name': 'Lé Vantage Café Bar', 'address': '195/A, Rd Number 13, Jubilee Hills, Hyderabad, Telangana 500033, India', 'is_open_now': True, 'website': 'http://www.levantagecafebar.com/', 'rating': 4.3, 'user_ratings_total': 7225}\n"
     ]
    }
   ],
   "source": [
    "\n",
    "def get_place_id(place_query):\n",
    "    url = \"https://maps.googleapis.com/maps/api/place/findplacefromtext/json\"\n",
    "    params = {\n",
    "        \"input\": place_query,\n",
    "        \"inputtype\": \"textquery\",\n",
    "        \"fields\": \"place_id\",\n",
    "        \"key\": config.GOOGLE_PLACES_API_KEY\n",
    "    }\n",
    "    response = requests.get(url, params=params)\n",
    "    print(response.json())\n",
    "    data = response.json()\n",
    "\n",
    "    if data[\"status\"] == \"OK\" and data[\"candidates\"]:\n",
    "        return data[\"candidates\"][0][\"place_id\"]\n",
    "    else:\n",
    "        print(\"Place not found.\")\n",
    "        return None\n",
    "\n",
    "def get_place_details(place_id):\n",
    "    url = \"https://maps.googleapis.com/maps/api/place/details/json\"\n",
    "    params = {\n",
    "        \"place_id\": place_id,\n",
    "        \"fields\": \"name,formatted_address,opening_hours,website,rating,user_ratings_total\",\n",
    "        \"key\": config.GOOGLE_PLACES_API_KEY\n",
    "    }\n",
    "    response = requests.get(url, params=params)\n",
    "    return response.json()\n",
    "\n",
    "def verify_place_from_web_result(web_result):\n",
    "    print(f\"Searching for: {web_result}\")\n",
    "    place_id = get_place_id(web_result)\n",
    "\n",
    "    if not place_id:\n",
    "        return {\"exists\": False, \"details\": None}\n",
    "\n",
    "    details = get_place_details(place_id)\n",
    "    result = details.get(\"result\", {})\n",
    "\n",
    "    return {\n",
    "        \"exists\": True,\n",
    "        \"name\": result.get(\"name\"),\n",
    "        \"address\": result.get(\"formatted_address\"),\n",
    "        \"is_open_now\": result.get(\"opening_hours\", {}).get(\"open_now\"),\n",
    "        \"website\": result.get(\"website\"),\n",
    "        \"rating\": result.get(\"rating\"),\n",
    "        \"user_ratings_total\": result.get(\"user_ratings_total\")\n",
    "    }\n",
    "\n",
    "# Example from Tavily/web search\n",
    "web_result_text = \"Le Vantage Cafe Bar, Road No 13, Banjara Hills, Hyderabad, Telangana, India, 500034\"\n",
    "info = verify_place_from_web_result(web_result_text)\n",
    "\n",
    "print(\"Verification Result:\")\n",
    "print(info)\n"
   ]
  },
  {
   "cell_type": "code",
   "execution_count": null,
   "metadata": {},
   "outputs": [],
   "source": []
  }
 ],
 "metadata": {
  "kernelspec": {
   "display_name": "globai_venv",
   "language": "python",
   "name": "python3"
  },
  "language_info": {
   "codemirror_mode": {
    "name": "ipython",
    "version": 3
   },
   "file_extension": ".py",
   "mimetype": "text/x-python",
   "name": "python",
   "nbconvert_exporter": "python",
   "pygments_lexer": "ipython3",
   "version": "3.12.6"
  }
 },
 "nbformat": 4,
 "nbformat_minor": 2
}
