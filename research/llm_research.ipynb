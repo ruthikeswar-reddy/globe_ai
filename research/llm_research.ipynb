{
 "cells": [
  {
   "cell_type": "code",
   "execution_count": 1,
   "metadata": {},
   "outputs": [],
   "source": [
    "from langchain_openai import ChatOpenAI\n",
    "import os\n",
    "from langchain_core.messages import HumanMessage, AIMessage, SystemMessage\n",
    "from langchain_core.prompts import ChatPromptTemplate\n",
    "from dotenv import load_dotenv\n",
    "load_dotenv()\n",
    "\n",
    "llm = ChatOpenAI(model=\"gpt-4-turbo\", openai_api_key = os.getenv(\"OPENAI_API_KEY\"), temperature=0, verbose=True)\n",
    "\n",
    "\n",
    "\n"
   ]
  },
  {
   "cell_type": "code",
   "execution_count": 2,
   "metadata": {},
   "outputs": [],
   "source": [
    "result = llm.invoke([HumanMessage(content=\"what are the best restaurants in Hyderabad?\")])"
   ]
  },
  {
   "cell_type": "code",
   "execution_count": 4,
   "metadata": {},
   "outputs": [
    {
     "name": "stdout",
     "output_type": "stream",
     "text": [
      "==================================\u001b[1m Ai Message \u001b[0m==================================\n",
      "\n",
      "As of my last update, Hyderabad is renowned for its vibrant culinary scene that blends traditional and modern flavors. Here are some of the top-rated restaurants in Hyderabad, known for their quality and unique offerings:\n",
      "\n",
      "1. **Paradise Restaurant** - Famous for its Hyderabadi biryani, Paradise has been a culinary landmark for decades. It's a must-visit for anyone wanting to try authentic Hyderabadi cuisine.\n",
      "\n",
      "2. **Bawarchi** - Another popular spot for biryani, Bawarchi is known for its consistent taste and quality, attracting locals and tourists alike.\n",
      "\n",
      "3. **Dakshin, ITC Kakatiya** - This upscale restaurant offers a taste of South India’s various cuisines, including dishes from Tamil Nadu, Kerala, Andhra Pradesh, and Karnataka, in a fine dining setting.\n",
      "\n",
      "4. **Mekong, Marigold by Greenpark** - If you're in the mood for Pan-Asian cuisine, Mekong offers a range of dishes from Thai, Burmese, Vietnamese to Chinese.\n",
      "\n",
      "5. **Chutneys** - A chain of restaurants famous for its South Indian breakfasts and meals, accompanied by a variety of chutneys.\n",
      "\n",
      "6. **Adaa, Taj Falaknuma Palace** - For a luxurious dining experience, Adaa offers a royal setting with traditional Hyderabadi and Lucknowi cuisine, crafted in a slow-cooked style.\n",
      "\n",
      "7. **Zega, Sheraton Hyderabad** - A great place for contemporary Asian cuisine, offering a relaxed yet chic dining experience.\n",
      "\n",
      "8. **Jewel of Nizam – The Minar, The Golkonda Hotel** - Set in a tower with panoramic views, this restaurant serves classic and innovative Hyderabadi dishes.\n",
      "\n",
      "9. **The Fisherman's Wharf** - Bringing Goan ambiance and seafood specialties to Hyderabad, this place is great for a casual dining experience with family or friends.\n",
      "\n",
      "10. **Simply South** - Chef Chalapathi Rao’s venture offers traditional dishes from across the southern states of India, focusing on authenticity and flavor.\n",
      "\n",
      "These restaurants offer a mix of traditional and modern, local and international cuisines, catering to various tastes and preferences. Always check the latest reviews or local food blogs for the most current recommendations, as the restaurant scene can change rapidly.\n"
     ]
    }
   ],
   "source": [
    "result.pretty_print()"
   ]
  },
  {
   "cell_type": "markdown",
   "metadata": {},
   "source": [
    "![what are the best restaraunts in hyd?.](./images/restaraunts_1.png)\n"
   ]
  },
  {
   "cell_type": "markdown",
   "metadata": {},
   "source": [
    "![what are the best restaraunts in hyd?2.](./images/restaraunts_2.png)"
   ]
  },
  {
   "cell_type": "markdown",
   "metadata": {},
   "source": [
    "![MODEL_USED_FOR_RESPONSE](./images/gpt_model.png)"
   ]
  },
  {
   "cell_type": "markdown",
   "metadata": {},
   "source": []
  }
 ],
 "metadata": {
  "kernelspec": {
   "display_name": "globai_venv",
   "language": "python",
   "name": "python3"
  },
  "language_info": {
   "codemirror_mode": {
    "name": "ipython",
    "version": 3
   },
   "file_extension": ".py",
   "mimetype": "text/x-python",
   "name": "python",
   "nbconvert_exporter": "python",
   "pygments_lexer": "ipython3",
   "version": "3.12.6"
  }
 },
 "nbformat": 4,
 "nbformat_minor": 2
}
