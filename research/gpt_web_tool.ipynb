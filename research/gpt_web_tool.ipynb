{
 "cells": [
  {
   "cell_type": "code",
   "execution_count": 1,
   "metadata": {},
   "outputs": [
    {
     "name": "stdout",
     "output_type": "stream",
     "text": [
      "In the past two months, Washington, D.C., has welcomed several notable restaurant openings, each offering unique culinary experiences:\n",
      "\n",
      "**[Tapori](https://www.taporidc.com?utm_source=openai)**  \n",
      "**Closed · Indian · $$**  \n",
      "_600 H St NE, Washington, D.C. 20002_  \n",
      "Opened in March on H Street, this Indian street food restaurant from the team behind Daru features flavors from across India, particularly the southern and Himalayan regions, in a casual, communal dining setting.\n",
      "\n",
      "**[Sagrada](https://sagradamia.com/?utm_source=openai)**  \n",
      "**Closed · $100+ · 4.9 (7 reviews)**  \n",
      "_1901 14th St NW 2nd Floor, Washington, DC 20009_  \n",
      "Launched by Knead Hospitality + Design, Sagrada offers an eight-course tasting menu designed to mimic a psychedelic journey, with immersive storytelling and dishes featuring mushrooms like shiitake and lion’s mane.\n",
      "\n",
      "**[The Occidental](http://www.occidentaldc.com?utm_source=openai)**  \n",
      "**Closed · American · $$$$ · 4.2 (189 reviews)**  \n",
      "_1475 Pennsylvania Ave NW (btwn 14th & 15th St NW), Washington, D.C. 20004_  \n",
      "Stephen Starr has revitalized this historic 1906 restaurant near the White House, offering American classics such as glazed Virginia ham and lamb chops with mint jelly, alongside a martini-focused cocktail list.\n",
      "\n",
      "**[Elmina](https://www.elminarestaurant.com?utm_source=openai)**  \n",
      "**Closed · African · $$**  \n",
      "_2208 14th St NW, Washington, D.C. 20009_  \n",
      "Celebrity chef Eric Adjepong’s new restaurant in Union Market brings a refined take on West African cuisine, showcasing dishes inspired by Ghanaian flavors paired with an innovative cocktail program.\n",
      "\n",
      "These establishments contribute to the dynamic and diverse dining scene in Washington, D.C., offering a range of flavors and experiences for residents and visitors alike. \n"
     ]
    }
   ],
   "source": [
    "from openai import OpenAI\n",
    "client = OpenAI()\n",
    "\n",
    "response = client.responses.create(\n",
    "    model=\"gpt-4.1\",\n",
    "    tools=[{\"type\": \"web_search_preview\"}],\n",
    "    input=\"what are newly opened restaurants in WashingtonDC in the past two months?.\",\n",
    "    temperature=0\n",
    ")\n",
    "\n",
    "print(response.output_text)"
   ]
  },
  {
   "cell_type": "code",
   "execution_count": null,
   "metadata": {},
   "outputs": [],
   "source": []
  }
 ],
 "metadata": {
  "kernelspec": {
   "display_name": "globai_venv",
   "language": "python",
   "name": "python3"
  },
  "language_info": {
   "codemirror_mode": {
    "name": "ipython",
    "version": 3
   },
   "file_extension": ".py",
   "mimetype": "text/x-python",
   "name": "python",
   "nbconvert_exporter": "python",
   "pygments_lexer": "ipython3",
   "version": "3.12.6"
  }
 },
 "nbformat": 4,
 "nbformat_minor": 2
}
