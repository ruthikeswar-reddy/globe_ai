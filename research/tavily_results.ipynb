{
 "cells": [
  {
   "cell_type": "code",
   "execution_count": 2,
   "metadata": {},
   "outputs": [
    {
     "ename": "ImportError",
     "evalue": "attempted relative import with no known parent package",
     "output_type": "error",
     "traceback": [
      "\u001b[31m---------------------------------------------------------------------------\u001b[39m",
      "\u001b[31mImportError\u001b[39m                               Traceback (most recent call last)",
      "\u001b[36mCell\u001b[39m\u001b[36m \u001b[39m\u001b[32mIn[2]\u001b[39m\u001b[32m, line 2\u001b[39m\n\u001b[32m      1\u001b[39m \u001b[38;5;28;01mfrom\u001b[39;00m\u001b[38;5;250m \u001b[39m\u001b[34;01mlangchain_community\u001b[39;00m\u001b[34;01m.\u001b[39;00m\u001b[34;01mtools\u001b[39;00m\u001b[34;01m.\u001b[39;00m\u001b[34;01mtavily_search\u001b[39;00m\u001b[38;5;250m \u001b[39m\u001b[38;5;28;01mimport\u001b[39;00m TavilySearchResults\n\u001b[32m----> \u001b[39m\u001b[32m2\u001b[39m \u001b[38;5;28;01mfrom\u001b[39;00m\u001b[38;5;250m \u001b[39m\u001b[34;01m.\u001b[39;00m\u001b[34;01m.\u001b[39;00m\u001b[34;01mproject_config\u001b[39;00m\u001b[38;5;250m \u001b[39m\u001b[38;5;28;01mimport\u001b[39;00m get_project_config\n\u001b[32m      3\u001b[39m \u001b[38;5;28;01mimport\u001b[39;00m\u001b[38;5;250m \u001b[39m\u001b[34;01mos\u001b[39;00m\n\u001b[32m      5\u001b[39m config = get_project_config()\n",
      "\u001b[31mImportError\u001b[39m: attempted relative import with no known parent package"
     ]
    }
   ],
   "source": [
    "from langchain_community.tools.tavily_search import TavilySearchResults\n",
    "from ..project_config import get_project_config\n",
    "import os\n",
    "\n",
    "config = get_project_config()\n",
    "os.environ[\"TAVILY_API_KEY\"] = config.TAVILY_API_KEY\n",
    "\n",
    "tavily_search = TavilySearchResults()\n",
    "results = tavily_search.invoke({\"query\": \"best restaurants in San Francisco\", \"num_results\": 10})\n"
   ]
  },
  {
   "cell_type": "code",
   "execution_count": 2,
   "metadata": {},
   "outputs": [
    {
     "name": "stdout",
     "output_type": "stream",
     "text": [
      "c:\\Users\\Ruthikeswar.T\\Desktop\\GLOBAI\\Restaurant_Recommendation\n"
     ]
    }
   ],
   "source": [
    "import os\n",
    "import sys\n",
    "print(os.path.abspath(\"..\"))\n",
    "sys.path.append(os.path.abspath(\"..\"))"
   ]
  },
  {
   "cell_type": "code",
   "execution_count": 3,
   "metadata": {},
   "outputs": [],
   "source": [
    "from langchain_community.tools.tavily_search import TavilySearchResults\n",
    "from project_config import get_project_config\n",
    "import os\n",
    "\n",
    "config = get_project_config()\n",
    "os.environ[\"TAVILY_API_KEY\"] = config.TAVILY_API_KEY\n",
    "\n",
    "tavily_search = TavilySearchResults()\n",
    "results = tavily_search.invoke({\"query\": \"best restaurants in San Francisco\", \"num_results\": 10})\n"
   ]
  },
  {
   "cell_type": "code",
   "execution_count": 4,
   "metadata": {},
   "outputs": [
    {
     "data": {
      "text/plain": [
       "[{'url': 'https://www.tripadvisor.com/Restaurants-g60713-San_Francisco_California.html',\n",
       "  'content': \"The best restaurants in San Francisco include: Mersea Restaurant & Bar · Blue Mermaid Restaurant · Mitchell's Ice Cream. What are the best\"},\n",
       " {'url': 'https://www.annacarwile.com/travel-blog/must-eat-in-san-francisco-foodie-tour',\n",
       "  'content': 'Wipe Out Bar Pier 39 Fisherman’s Wharf SF\\n\\nBest Restaurants on the Wharf San Francisco\\n\\nFisherman’s Wharf has some of the best restaurants in San Francisco, including some great waterfront eateries.\\n\\nHere are some of our favorites:\\n\\nThe Buena Vista - (get the Famous Irish Coffee) and Hollywood Cafe are both great brunch places near the Fisherman’s Wharf area\\n\\nBoudin Bakery Cafe - Sourdough sandwiches, pizza, and tacos - this place was AMAZING so we went here twice for dinner [...] We ate at a few delicious Italian restaurants in North Beach during our 7 day trip to San Francisco. Based off research and personal experience here are some of the best North Beach restaurants in San Francisco:\\n\\nTonys Pizza Napoletana - this pizza place was only about a 10 minute walk from our hotel in Fisherman’s Wharf and it’s the best pizza in San Francisco. We had a great dinner here on our last night in the city.\\n\\nBarbara Pinseria & Cocktail Bar\\n\\nCapo’s\\n\\nTrattoria Contadina [...] Il Casaro Pizzeria\\n\\nPiccolo Forno\\n\\nLush Gelato for a sweet treat\\n\\nFisherman’s Wharf Pier 39\\n\\nFisherman’s Wharf\\n\\nIn my opinion Fisherman’s Wharf is the best place to stay while visiting San Francisco. There are some fantastic restaurants in the area plus its super easy to walk to Chinatown, North Beach district, and other areas from here. We stayed at Hotel Zephyr during our action packed 7 day trip and it was perfect. San Francisco was surprisingly walkable despite the hills.'},\n",
       " {'url': 'https://www.opentable.com/region/san-francisco/san-francisco-restaurants',\n",
       "  'content': 'Award winning restaurants in San Francisco Bay Area · Octavia · Che Fico San Francisco · Prospect · Kokkari Estiatorio · Harborview Restaurant & Bar · Zuni Cafe.'},\n",
       " {'url': 'https://medium.com/reserved-by-sarah/top-10-best-restaurants-in-sf-in-2025-1e3841b58e0a',\n",
       "  'content': 'Verjus’ reopening after four years makes me excited about SF’s future. It is a party every night of the week with low lighting, loud voices, and happy vibes. The food is hearty, but not fussy. Order the mussels escabeche, tuna crudo, Boursin omelet and duck confit, but make sure you leave space for the pain perdu (like a french toast dessert but better).\\n\\n3. Tiya [...] Breadbelly is off the list because they broke my heart by not bringing back my favorite tomato sandwich. I’m also dropping Californios, Ssal, and Noodle in a Haystack since I didn’t have an opportunity to revisit them this year, so I can’t confirm if they have maintained their magic (although I assume they have!). In their place I’ve added Four Kings, Verjus, Tiya, and Spruce’s Bar. [...] Special mentions\\n\\nAtelier Crenn — My best bite of the year was one of the first dishes in this tasting menu extravaganza- a small tart layered with caviar, avocado, lime, and sesame that came together perfectly.\\n\\nAcquerello\\u200a— This restaurant feels like going back in time with its hushed atmosphere and waiters in suits. The food is delicious (although not wildly exciting). It’s perfect when you want a special occasion meal where you’re made to feel very very comfortable.'},\n",
       " {'url': 'https://scomas.com/',\n",
       "  'content': \"Scoma's named #43 on the San Francisco Chronicle's Top 100 Bay Area Restaurants 2025 list! We also made it on TOP 10 Most Booked Restaurants in San Francisco!\"}]"
      ]
     },
     "execution_count": 4,
     "metadata": {},
     "output_type": "execute_result"
    }
   ],
   "source": [
    "results"
   ]
  },
  {
   "cell_type": "markdown",
   "metadata": {},
   "source": [
    "# The results from tavily contains : \n",
    "    1. The results from google search, that we generally use.\n",
    "    2. Doesn't Contain the SPONSORED(ADDS BY GOOGLE, FOR THE RESTARAUNTS TO GET A BETTER CUSTOMER REACH) LINKS GIVEN BY GOOGLE."
   ]
  },
  {
   "cell_type": "code",
   "execution_count": 10,
   "metadata": {},
   "outputs": [
    {
     "data": {
      "text/plain": [
       "True"
      ]
     },
     "execution_count": 10,
     "metadata": {},
     "output_type": "execute_result"
    }
   ],
   "source": [
    "isinstance(results,list)"
   ]
  },
  {
   "cell_type": "code",
   "execution_count": 19,
   "metadata": {},
   "outputs": [
    {
     "data": {
      "text/plain": [
       "\"The best restaurants in San Francisco include: Mersea Restaurant & Bar · Blue Mermaid Restaurant · Mitchell's Ice Cream. What are the best\""
      ]
     },
     "execution_count": 19,
     "metadata": {},
     "output_type": "execute_result"
    }
   ],
   "source": [
    "results[0]['content']\n"
   ]
  },
  {
   "cell_type": "code",
   "execution_count": null,
   "metadata": {},
   "outputs": [],
   "source": []
  }
 ],
 "metadata": {
  "kernelspec": {
   "display_name": "globai_venv",
   "language": "python",
   "name": "python3"
  },
  "language_info": {
   "codemirror_mode": {
    "name": "ipython",
    "version": 3
   },
   "file_extension": ".py",
   "mimetype": "text/x-python",
   "name": "python",
   "nbconvert_exporter": "python",
   "pygments_lexer": "ipython3",
   "version": "3.12.6"
  }
 },
 "nbformat": 4,
 "nbformat_minor": 2
}
