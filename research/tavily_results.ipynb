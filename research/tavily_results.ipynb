{
 "cells": [
  {
   "cell_type": "code",
   "execution_count": 2,
   "metadata": {},
   "outputs": [
    {
     "name": "stdout",
     "output_type": "stream",
     "text": [
      "c:\\Users\\Ruthikeswar.T\\Desktop\\GLOBAI\\Restaurant_Recommendation\n"
     ]
    }
   ],
   "source": [
    "import os\n",
    "import sys\n",
    "print(os.path.abspath(\"..\"))\n",
    "sys.path.append(os.path.abspath(\"..\"))"
   ]
  },
  {
   "cell_type": "code",
   "execution_count": 4,
   "metadata": {},
   "outputs": [],
   "source": [
    "from langchain_community.tools.tavily_search import TavilySearchResults\n",
    "from project_config import get_project_config\n",
    "import os\n",
    "\n",
    "config = get_project_config()\n",
    "os.environ[\"TAVILY_API_KEY\"] = config.TAVILY_API_KEY\n",
    "\n",
    "tavily_search = TavilySearchResults()\n",
    "results = tavily_search.invoke({\"query\": \"best restaurants in San Francisco\", \"num_results\": 10})\n"
   ]
  },
  {
   "cell_type": "code",
   "execution_count": 5,
   "metadata": {},
   "outputs": [
    {
     "data": {
      "text/plain": [
       "[{'url': 'https://www.tripadvisor.com/Restaurants-g60713-San_Francisco_California.html',\n",
       "  'content': \"The best restaurants in San Francisco include: Mersea Restaurant & Bar · Blue Mermaid Restaurant · Mitchell's Ice Cream. What are the best\"},\n",
       " {'url': 'https://www.sfchronicle.com/projects/2025/best-san-francisco-restaurants/',\n",
       "  'content': 'Top San Francisco Restaurants · The 25 best restaurants the city has to offer. · Atelier Crenn · Aziza · Benu · Breadbelly · Café Jacqueline.'},\n",
       " {'url': 'https://www.reddit.com/r/AskSF/comments/1atv9qp/what_is_currently_the_best_restaurant_in_all_of/',\n",
       "  'content': 'San Francisco Classic: Zuni Cafe · California Cuisine: Rich Table, SBP, The Progress, Outerlands, Ernest · Classic steakhouse: House of Prime Rib.'},\n",
       " {'url': 'https://guide.michelin.com/us/en/california/san-francisco/restaurants',\n",
       "  'content': 'Restaurants\\n\\nSan Francisco, California, USA and surroundings: 1-20 of 169 restaurants\\n\\nSungho\\n\\nSun Moon Studio\\n\\nFour Kings\\n\\nPrelude\\n\\nThe Wild\\n\\nVerjus\\n\\nNari\\n\\nTacos Oscar\\n\\nChe Fico\\n\\nNopalito\\n\\nHK Lounge Bistro\\n\\nTiya\\n\\nBurdell\\n\\nFOB Kitchen\\n\\nTacubaya\\n\\nwonderful\\n\\nIppuku\\n\\nChez Panisse\\n\\nBardo Lounge\\n\\nFriends Only\\n\\nThe areas covered by the MICHELIN Guide are increasing regularly so we may have some selection soon.\\n\\nDiscover the nearest restaurants\\n\\nDiscover the newly added restaurants\\n\\nAtelier Manna'},\n",
       " {'url': 'https://www.annacarwile.com/travel-blog/must-eat-in-san-francisco-foodie-tour',\n",
       "  'content': 'Our 3 favorite breakfasts in San Francisco were Boudin Bakery, Hollywood Cafe, and Cafe Buena Vista. Boudin Bakery has the best sourdough bread'}]"
      ]
     },
     "execution_count": 5,
     "metadata": {},
     "output_type": "execute_result"
    }
   ],
   "source": [
    "results"
   ]
  },
  {
   "cell_type": "code",
   "execution_count": 6,
   "metadata": {},
   "outputs": [],
   "source": [
    "from langchain_community.tools.tavily_search import TavilySearchResults\n",
    "from project_config import get_project_config\n",
    "import os\n",
    "\n",
    "config = get_project_config()\n",
    "os.environ[\"TAVILY_API_KEY\"] = config.TAVILY_API_KEY\n",
    "\n",
    "tavily_search = TavilySearchResults()\n",
    "results = tavily_search.invoke({\"query\": \"Suggest a good South Indian restaurant for lunch\", \"num_results\": 10})\n"
   ]
  },
  {
   "cell_type": "code",
   "execution_count": 7,
   "metadata": {},
   "outputs": [
    {
     "data": {
      "text/plain": [
       "[{'url': 'https://www.tripadvisor.com/Restaurants-g60763-c24-zfp30-New_York_City_New_York.html',\n",
       "  'content': 'Indian, Asian$$ - $$$\\nWe were on vacation in NYC and decided to try this place.I had the Cod with...\\nAuthentic South Indian Food in NYC - Great Service\\n*  *  * \\n20. Dhaba\\n4.0\\n(258 reviews)\\nClosed now\\nIndian, Asian$$ - $$$\\nThe menu had something for all dietary requirements: fish, lamb, chicken, and 4...\\n... it if you love delicious Indian meals!\\nOrder online\\n*  *  * \\n21. The Drunken Munkey\\n4.3\\n(126 reviews)\\nClosed now\\nIndian$$ - $$$ [...] (62 reviews)\\nClosed now\\nQuick Bites, Indian$\\nChicken tikka masala in a roti taco is my favourite but its literally done in...\\nAmazing Indian fusion in The Village area\\nOrder online\\n*  *  * \\n15. The Kati Roll Company\\n4.2\\n(231 reviews)\\nClosed now\\nQuick Bites, Indian$\\nI love the tea at Kati roll company. The rolls are just okay.. but do satisfy...\\ngreat desi snack food\\nOrder online\\n*  *  * \\n16. Patiala Indian Grill\\n4.3\\n(161 reviews)\\nClosed now\\nIndian$$ - $$$ [...] good food, great ambience, and top notch service\\nReserveOrder online\\n*  *  * \\nMICHELIN\\n5. Junoon\\n4.1\\n(823 reviews)\\nClosed now\\nIndian, Asian$$$$Menu\\nDefinitely try this place out because it will definitely change your...\\nDon’t miss this madness “Junoon”\\nOrder online\\n*  *  * \\n6. Amma\\n4.4\\n(429 reviews)\\nClosed now\\nIndian, Dining bars$$ - $$$\\nThis is my second time dining at this restaurant. It has excellent Indian food...\\nTasty food pleasant ambience.\\n*  *  * \\n7. Saar Indian Bistro\\n4.5'},\n",
       " {'url': 'https://www.opentable.com/cuisine/best-south-indian-restaurants-upper-east-side-ny',\n",
       "  'content': '1. OM Real Indian Food. 4.5. Awesome(118). $$$$Price: Moderate South indian · 2. aRoqa. 4.5. Awesome(812). $$$$Price: Expensive South indian · 3. Patiala. 4.5.'},\n",
       " {'url': 'https://lungirestaurant.com/',\n",
       "  'content': \"Lungi, under the ownership of Mervyn Winston, artfully combines the culinary traditions of South India and Sri Lanka. This vibrant eatery is a testament to the cultural heritage of its Partner,Chef Albin Vincent, who hails from Kanyakumari, India, with strong connections to Sri Lanka. Albin's culinary passion was ignited by his grandmother, a remarkable cook who introduced him to the intricacies of traditional Sri Lankan and Southern Indian cuisine from a young age. [...] About us\\n\\nSouth Indian and Sri Lankan restaurant.\\n\\nWelcome to Lungi [...] With the expertise of Chef Vasantha Kumar from Tamil Nadu, Sous Chef Andrew Simethy from Kerala, Chef Thirunavukkarasu specializes in Dosa experiences at Taj Coromandel, along with Chef Rushdhun Ramzy a distinguished culinary authority hailing from Sri Lanka, recognized for his innovative fusion of classic Sri Lankan tastes and contemporary cooking methods\"},\n",
       " {'url': 'https://www.theinfatuation.com/new-york/guides/the-best-indian-restaurants-in-nyc',\n",
       "  'content': \"Semma is an exceptional restaurant that serves South Indian regional specialties in a charming West Village space. Everything on the menu is great, but no meal here would be quite right without a few of the meaty dishes that are harder to find in NYC. We especially love the vat of tender Goanese oxtail. The flawless menu and stylish ambience make Semma one of the best restaurants in NYC.\\nHow to get into Semma [...] 8.3\\nHyderabadi Zaiqa ----------------\\n366 W 52nd St New York, New York 10019\\n$$$$\\nIndian\\nHell's Kitchen\\nPerfect For:LunchCasual Dinners [...] This Union Square spot (from the team behind Laut) doesn’t hold back. Everything from the slow-cooked beef encrusted with spices to the sweet and salty duck with curls of coconut packs a level of flavor that feels unfair to other restaurants. The menu is mostly coastal South Indian, although the chef is from Mumbai, so it makes sense that not everything stays on theme. Even with its chandeliers and neon accents, the room feels casual, but don’t let that throw you off. This is a special place.\"},\n",
       " {'url': 'https://www.reddit.com/r/FoodNYC/comments/1ckjipq/people_who_regularly_eat_indian_food_what_indian/',\n",
       "  'content': 'Caveat emptor. Veera da Dhaba and Ahimsa are decent. Utsav is good, too. The dosa man in Washington Square and Saravana Bhavan, too.'}]"
      ]
     },
     "execution_count": 7,
     "metadata": {},
     "output_type": "execute_result"
    }
   ],
   "source": [
    "results"
   ]
  },
  {
   "cell_type": "code",
   "execution_count": 10,
   "metadata": {},
   "outputs": [
    {
     "data": {
      "text/plain": [
       "True"
      ]
     },
     "execution_count": 10,
     "metadata": {},
     "output_type": "execute_result"
    }
   ],
   "source": [
    "isinstance(results,list)"
   ]
  },
  {
   "cell_type": "code",
   "execution_count": 19,
   "metadata": {},
   "outputs": [
    {
     "data": {
      "text/plain": [
       "\"The best restaurants in San Francisco include: Mersea Restaurant & Bar · Blue Mermaid Restaurant · Mitchell's Ice Cream. What are the best\""
      ]
     },
     "execution_count": 19,
     "metadata": {},
     "output_type": "execute_result"
    }
   ],
   "source": [
    "results[0]['content']\n"
   ]
  },
  {
   "cell_type": "code",
   "execution_count": null,
   "metadata": {},
   "outputs": [],
   "source": []
  }
 ],
 "metadata": {
  "kernelspec": {
   "display_name": "globai_venv",
   "language": "python",
   "name": "python3"
  },
  "language_info": {
   "codemirror_mode": {
    "name": "ipython",
    "version": 3
   },
   "file_extension": ".py",
   "mimetype": "text/x-python",
   "name": "python",
   "nbconvert_exporter": "python",
   "pygments_lexer": "ipython3",
   "version": "3.12.6"
  }
 },
 "nbformat": 4,
 "nbformat_minor": 2
}
